{
 "cells": [
  {
   "cell_type": "code",
   "execution_count": 35,
   "metadata": {},
   "outputs": [],
   "source": [
    "import numpy as np\n",
    "import pandas as pd\n",
    "import matplotlib.pyplot as plt\n",
    "%matplotlib inline\n",
    "import seaborn as sns\n",
    "import time\n",
    "from nltk.stem.snowball import SnowballStemmer\n",
    "import re\n",
    "from gensim.parsing.preprocessing import remove_stopwords\n",
    "from bs4 import BeautifulSoup\n",
    "from sklearn.preprocessing import LabelEncoder\n",
    "from sklearn.feature_extraction.text import CountVectorizer\n",
    "from sklearn.feature_extraction.text import TfidfVectorizer\n",
    "from sklearn.metrics import confusion_matrix,log_loss\n",
    "from sklearn.linear_model import LogisticRegression"
   ]
  },
  {
   "cell_type": "code",
   "execution_count": 2,
   "metadata": {},
   "outputs": [
    {
     "data": {
      "text/html": [
       "<div>\n",
       "<style scoped>\n",
       "    .dataframe tbody tr th:only-of-type {\n",
       "        vertical-align: middle;\n",
       "    }\n",
       "\n",
       "    .dataframe tbody tr th {\n",
       "        vertical-align: top;\n",
       "    }\n",
       "\n",
       "    .dataframe thead th {\n",
       "        text-align: right;\n",
       "    }\n",
       "</style>\n",
       "<table border=\"1\" class=\"dataframe\">\n",
       "  <thead>\n",
       "    <tr style=\"text-align: right;\">\n",
       "      <th></th>\n",
       "      <th>title</th>\n",
       "      <th>text</th>\n",
       "      <th>subject</th>\n",
       "      <th>date</th>\n",
       "    </tr>\n",
       "  </thead>\n",
       "  <tbody>\n",
       "    <tr>\n",
       "      <th>0</th>\n",
       "      <td>Donald Trump Sends Out Embarrassing New Year’...</td>\n",
       "      <td>Donald Trump just couldn t wish all Americans ...</td>\n",
       "      <td>News</td>\n",
       "      <td>December 31, 2017</td>\n",
       "    </tr>\n",
       "    <tr>\n",
       "      <th>1</th>\n",
       "      <td>Drunk Bragging Trump Staffer Started Russian ...</td>\n",
       "      <td>House Intelligence Committee Chairman Devin Nu...</td>\n",
       "      <td>News</td>\n",
       "      <td>December 31, 2017</td>\n",
       "    </tr>\n",
       "    <tr>\n",
       "      <th>2</th>\n",
       "      <td>Sheriff David Clarke Becomes An Internet Joke...</td>\n",
       "      <td>On Friday, it was revealed that former Milwauk...</td>\n",
       "      <td>News</td>\n",
       "      <td>December 30, 2017</td>\n",
       "    </tr>\n",
       "    <tr>\n",
       "      <th>3</th>\n",
       "      <td>Trump Is So Obsessed He Even Has Obama’s Name...</td>\n",
       "      <td>On Christmas day, Donald Trump announced that ...</td>\n",
       "      <td>News</td>\n",
       "      <td>December 29, 2017</td>\n",
       "    </tr>\n",
       "    <tr>\n",
       "      <th>4</th>\n",
       "      <td>Pope Francis Just Called Out Donald Trump Dur...</td>\n",
       "      <td>Pope Francis used his annual Christmas Day mes...</td>\n",
       "      <td>News</td>\n",
       "      <td>December 25, 2017</td>\n",
       "    </tr>\n",
       "  </tbody>\n",
       "</table>\n",
       "</div>"
      ],
      "text/plain": [
       "                                               title  \\\n",
       "0   Donald Trump Sends Out Embarrassing New Year’...   \n",
       "1   Drunk Bragging Trump Staffer Started Russian ...   \n",
       "2   Sheriff David Clarke Becomes An Internet Joke...   \n",
       "3   Trump Is So Obsessed He Even Has Obama’s Name...   \n",
       "4   Pope Francis Just Called Out Donald Trump Dur...   \n",
       "\n",
       "                                                text subject  \\\n",
       "0  Donald Trump just couldn t wish all Americans ...    News   \n",
       "1  House Intelligence Committee Chairman Devin Nu...    News   \n",
       "2  On Friday, it was revealed that former Milwauk...    News   \n",
       "3  On Christmas day, Donald Trump announced that ...    News   \n",
       "4  Pope Francis used his annual Christmas Day mes...    News   \n",
       "\n",
       "                date  \n",
       "0  December 31, 2017  \n",
       "1  December 31, 2017  \n",
       "2  December 30, 2017  \n",
       "3  December 29, 2017  \n",
       "4  December 25, 2017  "
      ]
     },
     "execution_count": 2,
     "metadata": {},
     "output_type": "execute_result"
    }
   ],
   "source": [
    "fake = pd.read_csv(r'Fake.csv')\n",
    "true = pd.read_csv(r'True.csv')\n",
    "fake.head()"
   ]
  },
  {
   "cell_type": "code",
   "execution_count": 3,
   "metadata": {},
   "outputs": [
    {
     "name": "stdout",
     "output_type": "stream",
     "text": [
      "(23481, 4)\n",
      "(21417, 4)\n"
     ]
    }
   ],
   "source": [
    "print(fake.shape)\n",
    "print(true.shape)"
   ]
  },
  {
   "cell_type": "code",
   "execution_count": 4,
   "metadata": {},
   "outputs": [
    {
     "data": {
      "text/html": [
       "<div>\n",
       "<style scoped>\n",
       "    .dataframe tbody tr th:only-of-type {\n",
       "        vertical-align: middle;\n",
       "    }\n",
       "\n",
       "    .dataframe tbody tr th {\n",
       "        vertical-align: top;\n",
       "    }\n",
       "\n",
       "    .dataframe thead th {\n",
       "        text-align: right;\n",
       "    }\n",
       "</style>\n",
       "<table border=\"1\" class=\"dataframe\">\n",
       "  <thead>\n",
       "    <tr style=\"text-align: right;\">\n",
       "      <th></th>\n",
       "      <th>title</th>\n",
       "      <th>text</th>\n",
       "      <th>subject</th>\n",
       "      <th>date</th>\n",
       "    </tr>\n",
       "  </thead>\n",
       "  <tbody>\n",
       "    <tr>\n",
       "      <th>0</th>\n",
       "      <td>As U.S. budget fight looms, Republicans flip t...</td>\n",
       "      <td>WASHINGTON (Reuters) - The head of a conservat...</td>\n",
       "      <td>politicsNews</td>\n",
       "      <td>December 31, 2017</td>\n",
       "    </tr>\n",
       "    <tr>\n",
       "      <th>1</th>\n",
       "      <td>U.S. military to accept transgender recruits o...</td>\n",
       "      <td>WASHINGTON (Reuters) - Transgender people will...</td>\n",
       "      <td>politicsNews</td>\n",
       "      <td>December 29, 2017</td>\n",
       "    </tr>\n",
       "    <tr>\n",
       "      <th>2</th>\n",
       "      <td>Senior U.S. Republican senator: 'Let Mr. Muell...</td>\n",
       "      <td>WASHINGTON (Reuters) - The special counsel inv...</td>\n",
       "      <td>politicsNews</td>\n",
       "      <td>December 31, 2017</td>\n",
       "    </tr>\n",
       "    <tr>\n",
       "      <th>3</th>\n",
       "      <td>FBI Russia probe helped by Australian diplomat...</td>\n",
       "      <td>WASHINGTON (Reuters) - Trump campaign adviser ...</td>\n",
       "      <td>politicsNews</td>\n",
       "      <td>December 30, 2017</td>\n",
       "    </tr>\n",
       "    <tr>\n",
       "      <th>4</th>\n",
       "      <td>Trump wants Postal Service to charge 'much mor...</td>\n",
       "      <td>SEATTLE/WASHINGTON (Reuters) - President Donal...</td>\n",
       "      <td>politicsNews</td>\n",
       "      <td>December 29, 2017</td>\n",
       "    </tr>\n",
       "  </tbody>\n",
       "</table>\n",
       "</div>"
      ],
      "text/plain": [
       "                                               title  \\\n",
       "0  As U.S. budget fight looms, Republicans flip t...   \n",
       "1  U.S. military to accept transgender recruits o...   \n",
       "2  Senior U.S. Republican senator: 'Let Mr. Muell...   \n",
       "3  FBI Russia probe helped by Australian diplomat...   \n",
       "4  Trump wants Postal Service to charge 'much mor...   \n",
       "\n",
       "                                                text       subject  \\\n",
       "0  WASHINGTON (Reuters) - The head of a conservat...  politicsNews   \n",
       "1  WASHINGTON (Reuters) - Transgender people will...  politicsNews   \n",
       "2  WASHINGTON (Reuters) - The special counsel inv...  politicsNews   \n",
       "3  WASHINGTON (Reuters) - Trump campaign adviser ...  politicsNews   \n",
       "4  SEATTLE/WASHINGTON (Reuters) - President Donal...  politicsNews   \n",
       "\n",
       "                 date  \n",
       "0  December 31, 2017   \n",
       "1  December 29, 2017   \n",
       "2  December 31, 2017   \n",
       "3  December 30, 2017   \n",
       "4  December 29, 2017   "
      ]
     },
     "execution_count": 4,
     "metadata": {},
     "output_type": "execute_result"
    }
   ],
   "source": [
    "true.head()"
   ]
  },
  {
   "cell_type": "code",
   "execution_count": 5,
   "metadata": {},
   "outputs": [
    {
     "name": "stdout",
     "output_type": "stream",
     "text": [
      "<class 'pandas.core.frame.DataFrame'>\n",
      "RangeIndex: 23481 entries, 0 to 23480\n",
      "Data columns (total 4 columns):\n",
      " #   Column   Non-Null Count  Dtype \n",
      "---  ------   --------------  ----- \n",
      " 0   title    23481 non-null  object\n",
      " 1   text     23481 non-null  object\n",
      " 2   subject  23481 non-null  object\n",
      " 3   date     23481 non-null  object\n",
      "dtypes: object(4)\n",
      "memory usage: 733.9+ KB\n"
     ]
    }
   ],
   "source": [
    "fake.info()"
   ]
  },
  {
   "cell_type": "code",
   "execution_count": 6,
   "metadata": {},
   "outputs": [
    {
     "name": "stdout",
     "output_type": "stream",
     "text": [
      "<class 'pandas.core.frame.DataFrame'>\n",
      "RangeIndex: 21417 entries, 0 to 21416\n",
      "Data columns (total 4 columns):\n",
      " #   Column   Non-Null Count  Dtype \n",
      "---  ------   --------------  ----- \n",
      " 0   title    21417 non-null  object\n",
      " 1   text     21417 non-null  object\n",
      " 2   subject  21417 non-null  object\n",
      " 3   date     21417 non-null  object\n",
      "dtypes: object(4)\n",
      "memory usage: 669.4+ KB\n"
     ]
    }
   ],
   "source": [
    "true.info()"
   ]
  },
  {
   "cell_type": "code",
   "execution_count": 7,
   "metadata": {},
   "outputs": [],
   "source": [
    "fake['class'] = 0\n",
    "true['class'] = 1"
   ]
  },
  {
   "cell_type": "code",
   "execution_count": 8,
   "metadata": {},
   "outputs": [
    {
     "data": {
      "text/html": [
       "<div>\n",
       "<style scoped>\n",
       "    .dataframe tbody tr th:only-of-type {\n",
       "        vertical-align: middle;\n",
       "    }\n",
       "\n",
       "    .dataframe tbody tr th {\n",
       "        vertical-align: top;\n",
       "    }\n",
       "\n",
       "    .dataframe thead th {\n",
       "        text-align: right;\n",
       "    }\n",
       "</style>\n",
       "<table border=\"1\" class=\"dataframe\">\n",
       "  <thead>\n",
       "    <tr style=\"text-align: right;\">\n",
       "      <th></th>\n",
       "      <th>title</th>\n",
       "      <th>text</th>\n",
       "      <th>subject</th>\n",
       "      <th>date</th>\n",
       "      <th>class</th>\n",
       "    </tr>\n",
       "  </thead>\n",
       "  <tbody>\n",
       "    <tr>\n",
       "      <th>0</th>\n",
       "      <td>Donald Trump Sends Out Embarrassing New Year’...</td>\n",
       "      <td>Donald Trump just couldn t wish all Americans ...</td>\n",
       "      <td>News</td>\n",
       "      <td>December 31, 2017</td>\n",
       "      <td>0</td>\n",
       "    </tr>\n",
       "    <tr>\n",
       "      <th>1</th>\n",
       "      <td>Drunk Bragging Trump Staffer Started Russian ...</td>\n",
       "      <td>House Intelligence Committee Chairman Devin Nu...</td>\n",
       "      <td>News</td>\n",
       "      <td>December 31, 2017</td>\n",
       "      <td>0</td>\n",
       "    </tr>\n",
       "    <tr>\n",
       "      <th>2</th>\n",
       "      <td>Sheriff David Clarke Becomes An Internet Joke...</td>\n",
       "      <td>On Friday, it was revealed that former Milwauk...</td>\n",
       "      <td>News</td>\n",
       "      <td>December 30, 2017</td>\n",
       "      <td>0</td>\n",
       "    </tr>\n",
       "    <tr>\n",
       "      <th>3</th>\n",
       "      <td>Trump Is So Obsessed He Even Has Obama’s Name...</td>\n",
       "      <td>On Christmas day, Donald Trump announced that ...</td>\n",
       "      <td>News</td>\n",
       "      <td>December 29, 2017</td>\n",
       "      <td>0</td>\n",
       "    </tr>\n",
       "    <tr>\n",
       "      <th>4</th>\n",
       "      <td>Pope Francis Just Called Out Donald Trump Dur...</td>\n",
       "      <td>Pope Francis used his annual Christmas Day mes...</td>\n",
       "      <td>News</td>\n",
       "      <td>December 25, 2017</td>\n",
       "      <td>0</td>\n",
       "    </tr>\n",
       "  </tbody>\n",
       "</table>\n",
       "</div>"
      ],
      "text/plain": [
       "                                               title  \\\n",
       "0   Donald Trump Sends Out Embarrassing New Year’...   \n",
       "1   Drunk Bragging Trump Staffer Started Russian ...   \n",
       "2   Sheriff David Clarke Becomes An Internet Joke...   \n",
       "3   Trump Is So Obsessed He Even Has Obama’s Name...   \n",
       "4   Pope Francis Just Called Out Donald Trump Dur...   \n",
       "\n",
       "                                                text subject  \\\n",
       "0  Donald Trump just couldn t wish all Americans ...    News   \n",
       "1  House Intelligence Committee Chairman Devin Nu...    News   \n",
       "2  On Friday, it was revealed that former Milwauk...    News   \n",
       "3  On Christmas day, Donald Trump announced that ...    News   \n",
       "4  Pope Francis used his annual Christmas Day mes...    News   \n",
       "\n",
       "                date  class  \n",
       "0  December 31, 2017      0  \n",
       "1  December 31, 2017      0  \n",
       "2  December 30, 2017      0  \n",
       "3  December 29, 2017      0  \n",
       "4  December 25, 2017      0  "
      ]
     },
     "execution_count": 8,
     "metadata": {},
     "output_type": "execute_result"
    }
   ],
   "source": [
    "fake.head()"
   ]
  },
  {
   "cell_type": "code",
   "execution_count": 9,
   "metadata": {},
   "outputs": [
    {
     "data": {
      "text/html": [
       "<div>\n",
       "<style scoped>\n",
       "    .dataframe tbody tr th:only-of-type {\n",
       "        vertical-align: middle;\n",
       "    }\n",
       "\n",
       "    .dataframe tbody tr th {\n",
       "        vertical-align: top;\n",
       "    }\n",
       "\n",
       "    .dataframe thead th {\n",
       "        text-align: right;\n",
       "    }\n",
       "</style>\n",
       "<table border=\"1\" class=\"dataframe\">\n",
       "  <thead>\n",
       "    <tr style=\"text-align: right;\">\n",
       "      <th></th>\n",
       "      <th>title</th>\n",
       "      <th>text</th>\n",
       "      <th>subject</th>\n",
       "      <th>date</th>\n",
       "      <th>class</th>\n",
       "    </tr>\n",
       "  </thead>\n",
       "  <tbody>\n",
       "    <tr>\n",
       "      <th>0</th>\n",
       "      <td>As U.S. budget fight looms, Republicans flip t...</td>\n",
       "      <td>WASHINGTON (Reuters) - The head of a conservat...</td>\n",
       "      <td>politicsNews</td>\n",
       "      <td>December 31, 2017</td>\n",
       "      <td>1</td>\n",
       "    </tr>\n",
       "    <tr>\n",
       "      <th>1</th>\n",
       "      <td>U.S. military to accept transgender recruits o...</td>\n",
       "      <td>WASHINGTON (Reuters) - Transgender people will...</td>\n",
       "      <td>politicsNews</td>\n",
       "      <td>December 29, 2017</td>\n",
       "      <td>1</td>\n",
       "    </tr>\n",
       "    <tr>\n",
       "      <th>2</th>\n",
       "      <td>Senior U.S. Republican senator: 'Let Mr. Muell...</td>\n",
       "      <td>WASHINGTON (Reuters) - The special counsel inv...</td>\n",
       "      <td>politicsNews</td>\n",
       "      <td>December 31, 2017</td>\n",
       "      <td>1</td>\n",
       "    </tr>\n",
       "    <tr>\n",
       "      <th>3</th>\n",
       "      <td>FBI Russia probe helped by Australian diplomat...</td>\n",
       "      <td>WASHINGTON (Reuters) - Trump campaign adviser ...</td>\n",
       "      <td>politicsNews</td>\n",
       "      <td>December 30, 2017</td>\n",
       "      <td>1</td>\n",
       "    </tr>\n",
       "    <tr>\n",
       "      <th>4</th>\n",
       "      <td>Trump wants Postal Service to charge 'much mor...</td>\n",
       "      <td>SEATTLE/WASHINGTON (Reuters) - President Donal...</td>\n",
       "      <td>politicsNews</td>\n",
       "      <td>December 29, 2017</td>\n",
       "      <td>1</td>\n",
       "    </tr>\n",
       "  </tbody>\n",
       "</table>\n",
       "</div>"
      ],
      "text/plain": [
       "                                               title  \\\n",
       "0  As U.S. budget fight looms, Republicans flip t...   \n",
       "1  U.S. military to accept transgender recruits o...   \n",
       "2  Senior U.S. Republican senator: 'Let Mr. Muell...   \n",
       "3  FBI Russia probe helped by Australian diplomat...   \n",
       "4  Trump wants Postal Service to charge 'much mor...   \n",
       "\n",
       "                                                text       subject  \\\n",
       "0  WASHINGTON (Reuters) - The head of a conservat...  politicsNews   \n",
       "1  WASHINGTON (Reuters) - Transgender people will...  politicsNews   \n",
       "2  WASHINGTON (Reuters) - The special counsel inv...  politicsNews   \n",
       "3  WASHINGTON (Reuters) - Trump campaign adviser ...  politicsNews   \n",
       "4  SEATTLE/WASHINGTON (Reuters) - President Donal...  politicsNews   \n",
       "\n",
       "                 date  class  \n",
       "0  December 31, 2017       1  \n",
       "1  December 29, 2017       1  \n",
       "2  December 31, 2017       1  \n",
       "3  December 30, 2017       1  \n",
       "4  December 29, 2017       1  "
      ]
     },
     "execution_count": 9,
     "metadata": {},
     "output_type": "execute_result"
    }
   ],
   "source": [
    "true.head()"
   ]
  },
  {
   "cell_type": "code",
   "execution_count": 10,
   "metadata": {},
   "outputs": [
    {
     "data": {
      "image/png": "[encoded data removed]",
      "text/plain": [
       "<Figure size 720x576 with 1 Axes>"
      ]
     },
     "metadata": {
      "needs_background": "light"
     },
     "output_type": "display_data"
    }
   ],
   "source": [
    "plt.figure(figsize=(10,8))\n",
    "sns.countplot(fake['subject'])\n",
    "plt.show()"
   ]
  },
  {
   "cell_type": "code",
   "execution_count": 11,
   "metadata": {},
   "outputs": [
    {
     "data": {
      "image/png": "[encoded data removed]",
      "text/plain": [
       "<Figure size 720x576 with 1 Axes>"
      ]
     },
     "metadata": {
      "needs_background": "light"
     },
     "output_type": "display_data"
    }
   ],
   "source": [
    "plt.figure(figsize=(10,8))\n",
    "sns.countplot(true['subject'])\n",
    "plt.show()"
   ]
  },
  {
   "cell_type": "code",
   "execution_count": 12,
   "metadata": {},
   "outputs": [
    {
     "name": "stderr",
     "output_type": "stream",
     "text": [
      "<ipython-input-12-988cea0e93c9>:3: SettingWithCopyWarning: \n",
      "A value is trying to be set on a copy of a slice from a DataFrame\n",
      "\n",
      "See the caveats in the documentation: https://pandas.pydata.org/pandas-docs/stable/user_guide/indexing.html#returning-a-view-versus-a-copy\n",
      "  true['subject'][i] = 'politics'\n"
     ]
    },
    {
     "data": {
      "image/png": "[encoded data removed]",
      "text/plain": [
       "<Figure size 720x576 with 1 Axes>"
      ]
     },
     "metadata": {
      "needs_background": "light"
     },
     "output_type": "display_data"
    }
   ],
   "source": [
    "for i in range(len(true['subject'])):\n",
    "    if true['subject'][i] == 'politicsNews':\n",
    "        true['subject'][i] = 'politics'\n",
    "        \n",
    "true['subject'][10]\n",
    "\n",
    "plt.figure(figsize=(10,8))\n",
    "sns.countplot(true['subject'])\n",
    "plt.show()"
   ]
  },
  {
   "cell_type": "code",
   "execution_count": 13,
   "metadata": {},
   "outputs": [
    {
     "data": {
      "text/html": [
       "<div>\n",
       "<style scoped>\n",
       "    .dataframe tbody tr th:only-of-type {\n",
       "        vertical-align: middle;\n",
       "    }\n",
       "\n",
       "    .dataframe tbody tr th {\n",
       "        vertical-align: top;\n",
       "    }\n",
       "\n",
       "    .dataframe thead th {\n",
       "        text-align: right;\n",
       "    }\n",
       "</style>\n",
       "<table border=\"1\" class=\"dataframe\">\n",
       "  <thead>\n",
       "    <tr style=\"text-align: right;\">\n",
       "      <th></th>\n",
       "      <th>title</th>\n",
       "      <th>text</th>\n",
       "      <th>subject</th>\n",
       "      <th>date</th>\n",
       "      <th>class</th>\n",
       "    </tr>\n",
       "  </thead>\n",
       "  <tbody>\n",
       "    <tr>\n",
       "      <th>0</th>\n",
       "      <td>Donald Trump Sends Out Embarrassing New Year’...</td>\n",
       "      <td>Donald Trump just couldn t wish all Americans ...</td>\n",
       "      <td>News</td>\n",
       "      <td>December 31, 2017</td>\n",
       "      <td>0</td>\n",
       "    </tr>\n",
       "    <tr>\n",
       "      <th>1</th>\n",
       "      <td>Drunk Bragging Trump Staffer Started Russian ...</td>\n",
       "      <td>House Intelligence Committee Chairman Devin Nu...</td>\n",
       "      <td>News</td>\n",
       "      <td>December 31, 2017</td>\n",
       "      <td>0</td>\n",
       "    </tr>\n",
       "    <tr>\n",
       "      <th>2</th>\n",
       "      <td>Sheriff David Clarke Becomes An Internet Joke...</td>\n",
       "      <td>On Friday, it was revealed that former Milwauk...</td>\n",
       "      <td>News</td>\n",
       "      <td>December 30, 2017</td>\n",
       "      <td>0</td>\n",
       "    </tr>\n",
       "    <tr>\n",
       "      <th>3</th>\n",
       "      <td>Trump Is So Obsessed He Even Has Obama’s Name...</td>\n",
       "      <td>On Christmas day, Donald Trump announced that ...</td>\n",
       "      <td>News</td>\n",
       "      <td>December 29, 2017</td>\n",
       "      <td>0</td>\n",
       "    </tr>\n",
       "    <tr>\n",
       "      <th>4</th>\n",
       "      <td>Pope Francis Just Called Out Donald Trump Dur...</td>\n",
       "      <td>Pope Francis used his annual Christmas Day mes...</td>\n",
       "      <td>News</td>\n",
       "      <td>December 25, 2017</td>\n",
       "      <td>0</td>\n",
       "    </tr>\n",
       "  </tbody>\n",
       "</table>\n",
       "</div>"
      ],
      "text/plain": [
       "                                               title  \\\n",
       "0   Donald Trump Sends Out Embarrassing New Year’...   \n",
       "1   Drunk Bragging Trump Staffer Started Russian ...   \n",
       "2   Sheriff David Clarke Becomes An Internet Joke...   \n",
       "3   Trump Is So Obsessed He Even Has Obama’s Name...   \n",
       "4   Pope Francis Just Called Out Donald Trump Dur...   \n",
       "\n",
       "                                                text subject  \\\n",
       "0  Donald Trump just couldn t wish all Americans ...    News   \n",
       "1  House Intelligence Committee Chairman Devin Nu...    News   \n",
       "2  On Friday, it was revealed that former Milwauk...    News   \n",
       "3  On Christmas day, Donald Trump announced that ...    News   \n",
       "4  Pope Francis used his annual Christmas Day mes...    News   \n",
       "\n",
       "                date  class  \n",
       "0  December 31, 2017      0  \n",
       "1  December 31, 2017      0  \n",
       "2  December 30, 2017      0  \n",
       "3  December 29, 2017      0  \n",
       "4  December 25, 2017      0  "
      ]
     },
     "execution_count": 13,
     "metadata": {},
     "output_type": "execute_result"
    }
   ],
   "source": [
    "data = pd.concat([fake,true],axis=0)\n",
    "data.head()"
   ]
  },
  {
   "cell_type": "code",
   "execution_count": 14,
   "metadata": {},
   "outputs": [
    {
     "data": {
      "text/html": [
       "<div>\n",
       "<style scoped>\n",
       "    .dataframe tbody tr th:only-of-type {\n",
       "        vertical-align: middle;\n",
       "    }\n",
       "\n",
       "    .dataframe tbody tr th {\n",
       "        vertical-align: top;\n",
       "    }\n",
       "\n",
       "    .dataframe thead th {\n",
       "        text-align: right;\n",
       "    }\n",
       "</style>\n",
       "<table border=\"1\" class=\"dataframe\">\n",
       "  <thead>\n",
       "    <tr style=\"text-align: right;\">\n",
       "      <th></th>\n",
       "      <th>title</th>\n",
       "      <th>text</th>\n",
       "      <th>subject</th>\n",
       "      <th>date</th>\n",
       "      <th>class</th>\n",
       "    </tr>\n",
       "  </thead>\n",
       "  <tbody>\n",
       "    <tr>\n",
       "      <th>9084</th>\n",
       "      <td>JUST IN: CROOKED DOJ OFFICIAL Didn’t Reveal Th...</td>\n",
       "      <td>We ve been covering the curious case of DOJ of...</td>\n",
       "      <td>politics</td>\n",
       "      <td>14-Feb-18</td>\n",
       "      <td>0</td>\n",
       "    </tr>\n",
       "    <tr>\n",
       "      <th>9083</th>\n",
       "      <td>The DIRTY TRUTH About DACA Recipients…Where Th...</td>\n",
       "      <td>Yesterday, a second U.S. judge on Tuesday bloc...</td>\n",
       "      <td>politics</td>\n",
       "      <td>15-Feb-18</td>\n",
       "      <td>0</td>\n",
       "    </tr>\n",
       "    <tr>\n",
       "      <th>9082</th>\n",
       "      <td>HUH? RAPPER JAY-Z Compares Trayvon Martin to M...</td>\n",
       "      <td>Rapper Jay-Z attended the Peace Walk &amp; Peace T...</td>\n",
       "      <td>politics</td>\n",
       "      <td>15-Feb-18</td>\n",
       "      <td>0</td>\n",
       "    </tr>\n",
       "    <tr>\n",
       "      <th>9081</th>\n",
       "      <td>SC STATE REP Who is a Former Cop Proposes Smar...</td>\n",
       "      <td>WHO BETTER THAN A FORMER POLICE OFFICER TO UND...</td>\n",
       "      <td>politics</td>\n",
       "      <td>15-Feb-18</td>\n",
       "      <td>0</td>\n",
       "    </tr>\n",
       "    <tr>\n",
       "      <th>9080</th>\n",
       "      <td>JUST IN: Senate Rejects Immigration Bill…Trump...</td>\n",
       "      <td>How could the Senate be so lame in their effor...</td>\n",
       "      <td>politics</td>\n",
       "      <td>15-Feb-18</td>\n",
       "      <td>0</td>\n",
       "    </tr>\n",
       "  </tbody>\n",
       "</table>\n",
       "</div>"
      ],
      "text/plain": [
       "                                                  title  \\\n",
       "9084  JUST IN: CROOKED DOJ OFFICIAL Didn’t Reveal Th...   \n",
       "9083  The DIRTY TRUTH About DACA Recipients…Where Th...   \n",
       "9082  HUH? RAPPER JAY-Z Compares Trayvon Martin to M...   \n",
       "9081  SC STATE REP Who is a Former Cop Proposes Smar...   \n",
       "9080  JUST IN: Senate Rejects Immigration Bill…Trump...   \n",
       "\n",
       "                                                   text   subject       date  \\\n",
       "9084  We ve been covering the curious case of DOJ of...  politics  14-Feb-18   \n",
       "9083  Yesterday, a second U.S. judge on Tuesday bloc...  politics  15-Feb-18   \n",
       "9082  Rapper Jay-Z attended the Peace Walk & Peace T...  politics  15-Feb-18   \n",
       "9081  WHO BETTER THAN A FORMER POLICE OFFICER TO UND...  politics  15-Feb-18   \n",
       "9080  How could the Senate be so lame in their effor...  politics  15-Feb-18   \n",
       "\n",
       "      class  \n",
       "9084      0  \n",
       "9083      0  \n",
       "9082      0  \n",
       "9081      0  \n",
       "9080      0  "
      ]
     },
     "execution_count": 14,
     "metadata": {},
     "output_type": "execute_result"
    }
   ],
   "source": [
    "data = pd.DataFrame.sort_values(data,by=['date'])\n",
    "data.head()"
   ]
  },
  {
   "cell_type": "code",
   "execution_count": 15,
   "metadata": {},
   "outputs": [
    {
     "data": {
      "text/html": [
       "<div>\n",
       "<style scoped>\n",
       "    .dataframe tbody tr th:only-of-type {\n",
       "        vertical-align: middle;\n",
       "    }\n",
       "\n",
       "    .dataframe tbody tr th {\n",
       "        vertical-align: top;\n",
       "    }\n",
       "\n",
       "    .dataframe thead th {\n",
       "        text-align: right;\n",
       "    }\n",
       "</style>\n",
       "<table border=\"1\" class=\"dataframe\">\n",
       "  <thead>\n",
       "    <tr style=\"text-align: right;\">\n",
       "      <th></th>\n",
       "      <th>title</th>\n",
       "      <th>text</th>\n",
       "      <th>subject</th>\n",
       "      <th>class</th>\n",
       "    </tr>\n",
       "  </thead>\n",
       "  <tbody>\n",
       "    <tr>\n",
       "      <th>0</th>\n",
       "      <td>JUST IN: CROOKED DOJ OFFICIAL Didn’t Reveal Th...</td>\n",
       "      <td>We ve been covering the curious case of DOJ of...</td>\n",
       "      <td>politics</td>\n",
       "      <td>0</td>\n",
       "    </tr>\n",
       "    <tr>\n",
       "      <th>1</th>\n",
       "      <td>The DIRTY TRUTH About DACA Recipients…Where Th...</td>\n",
       "      <td>Yesterday, a second U.S. judge on Tuesday bloc...</td>\n",
       "      <td>politics</td>\n",
       "      <td>0</td>\n",
       "    </tr>\n",
       "    <tr>\n",
       "      <th>2</th>\n",
       "      <td>HUH? RAPPER JAY-Z Compares Trayvon Martin to M...</td>\n",
       "      <td>Rapper Jay-Z attended the Peace Walk &amp; Peace T...</td>\n",
       "      <td>politics</td>\n",
       "      <td>0</td>\n",
       "    </tr>\n",
       "    <tr>\n",
       "      <th>3</th>\n",
       "      <td>SC STATE REP Who is a Former Cop Proposes Smar...</td>\n",
       "      <td>WHO BETTER THAN A FORMER POLICE OFFICER TO UND...</td>\n",
       "      <td>politics</td>\n",
       "      <td>0</td>\n",
       "    </tr>\n",
       "    <tr>\n",
       "      <th>4</th>\n",
       "      <td>JUST IN: Senate Rejects Immigration Bill…Trump...</td>\n",
       "      <td>How could the Senate be so lame in their effor...</td>\n",
       "      <td>politics</td>\n",
       "      <td>0</td>\n",
       "    </tr>\n",
       "  </tbody>\n",
       "</table>\n",
       "</div>"
      ],
      "text/plain": [
       "                                               title  \\\n",
       "0  JUST IN: CROOKED DOJ OFFICIAL Didn’t Reveal Th...   \n",
       "1  The DIRTY TRUTH About DACA Recipients…Where Th...   \n",
       "2  HUH? RAPPER JAY-Z Compares Trayvon Martin to M...   \n",
       "3  SC STATE REP Who is a Former Cop Proposes Smar...   \n",
       "4  JUST IN: Senate Rejects Immigration Bill…Trump...   \n",
       "\n",
       "                                                text   subject  class  \n",
       "0  We ve been covering the curious case of DOJ of...  politics      0  \n",
       "1  Yesterday, a second U.S. judge on Tuesday bloc...  politics      0  \n",
       "2  Rapper Jay-Z attended the Peace Walk & Peace T...  politics      0  \n",
       "3  WHO BETTER THAN A FORMER POLICE OFFICER TO UND...  politics      0  \n",
       "4  How could the Senate be so lame in their effor...  politics      0  "
      ]
     },
     "execution_count": 15,
     "metadata": {},
     "output_type": "execute_result"
    }
   ],
   "source": [
    "data = data.reset_index(drop=True)\n",
    "data = data.drop('date',axis=1)\n",
    "data.head()"
   ]
  },
  {
   "cell_type": "code",
   "execution_count": 16,
   "metadata": {},
   "outputs": [],
   "source": [
    "#removing any shortforms if present\n",
    "def remove_shortforms(phrase):\n",
    "    phrase = re.sub(r\"won't\", \"will not\", phrase)\n",
    "    phrase = re.sub(r\"can\\'t\", \"can not\", phrase)\n",
    "\n",
    "    # general\n",
    "    phrase = re.sub(r\"n\\'t\", \" not\", phrase)\n",
    "    phrase = re.sub(r\"\\'re\", \" are\", phrase)\n",
    "    phrase = re.sub(r\"\\'s\", \" is\", phrase)\n",
    "    phrase = re.sub(r\"\\'d\", \" would\", phrase)\n",
    "    phrase = re.sub(r\"\\'ll\", \" will\", phrase)\n",
    "    phrase = re.sub(r\"\\'t\", \" not\", phrase)\n",
    "    phrase = re.sub(r\"\\'ve\", \" have\", phrase)\n",
    "    phrase = re.sub(r\"\\'m\", \" am\", phrase)\n",
    "    return phrase\n",
    "\n",
    "def remove_special_char(text):\n",
    "    text = re.sub('[^A-Za-z0-9]+',\" \",text)\n",
    "    return text\n",
    "\n",
    "def remove_wordswithnum(text):\n",
    "    text = re.sub(\"\\S*\\d\\S*\", \"\", text).strip()\n",
    "    return text\n",
    "\n",
    "def lowercase(text):\n",
    "    text = text.lower()\n",
    "    return text\n",
    "\n",
    "def remove_stop_words(text):\n",
    "    text = remove_stopwords(text)\n",
    "    return text\n",
    "\n",
    "st = SnowballStemmer(language='english')\n",
    "def stemming(text):\n",
    "    r= []\n",
    "    for word in text :\n",
    "        a = st.stem(word)\n",
    "        r.append(a)\n",
    "    return r\n",
    "\n",
    "def listToString(s):  \n",
    "    str1 = \" \"   \n",
    "    return (str1.join(s))"
   ]
  },
  {
   "cell_type": "code",
   "execution_count": 17,
   "metadata": {},
   "outputs": [],
   "source": [
    "# start_time = time.time()\n",
    "# for i in range(len(data['text'])):\n",
    "#     data['text'][i] = remove_shortforms(data['text'][i])\n",
    "#     data['text'][i] = remove_special_char(data['text'][i])\n",
    "#     data['text'][i] = remove_wordswithnum(data['text'][i])\n",
    "#     data['text'][i] = lowercase(data['text'][i])\n",
    "#     data['text'][i] = remove_stop_words(data['text'][i])\n",
    "#     text = data['text'][i]\n",
    "#     text = text.split()\n",
    "#     data['text'][i] = stemming(text)\n",
    "#     s = data['text'][i]\n",
    "#     data['text'][i] = listToString(s)\n",
    "# print(\"Time taken to preprocess : \",time.time()-start_time,\" seconds\")"
   ]
  },
  {
   "cell_type": "code",
   "execution_count": 18,
   "metadata": {
    "scrolled": false
   },
   "outputs": [],
   "source": [
    "# start_time = time.time()\n",
    "# for i in range(len(data['title'])):\n",
    "#     data['title'][i] = remove_shortforms(data['title'][i])\n",
    "#     data['title'][i] = remove_special_char(data['title'][i])\n",
    "#     data['title'][i] = remove_wordswithnum(data['title'][i])\n",
    "#     data['title'][i] = lowercase(data['title'][i])\n",
    "#     data['title'][i] = remove_stop_words(data['title'][i])\n",
    "#     text = data['title'][i]\n",
    "#     text = text.split()\n",
    "#     data['title'][i] = stemming(text)\n",
    "#     s = data['title'][i]\n",
    "#     data['title'][i] = listToString(s)\n",
    "# print(\"Time taken to preprocess : \",time.time()-start_time,\" seconds\")"
   ]
  },
  {
   "cell_type": "code",
   "execution_count": 19,
   "metadata": {},
   "outputs": [],
   "source": [
    "# start_time = time.time()\n",
    "# for i in range(len(data['subject'])):\n",
    "#     data['subject'][i] = remove_shortforms(data['subject'][i])\n",
    "#     data['subject'][i] = remove_special_char(data['subject'][i])\n",
    "#     data['subject'][i] = remove_wordswithnum(data['subject'][i])\n",
    "#     data['subject'][i] = lowercase(data['subject'][i])\n",
    "#     data['subject'][i] = remove_stop_words(data['subject'][i])\n",
    "#     text = data['subject'][i]\n",
    "#     text = text.split()\n",
    "#     data['subject'][i] = stemming(text)\n",
    "#     s = data['subject'][i]\n",
    "#     data['subject'][i] = listToString(s)\n",
    "# print(\"Time taken to preprocess : \",time.time()-start_time,\" seconds\")"
   ]
  },
  {
   "cell_type": "code",
   "execution_count": 20,
   "metadata": {},
   "outputs": [
    {
     "data": {
      "text/html": [
       "<div>\n",
       "<style scoped>\n",
       "    .dataframe tbody tr th:only-of-type {\n",
       "        vertical-align: middle;\n",
       "    }\n",
       "\n",
       "    .dataframe tbody tr th {\n",
       "        vertical-align: top;\n",
       "    }\n",
       "\n",
       "    .dataframe thead th {\n",
       "        text-align: right;\n",
       "    }\n",
       "</style>\n",
       "<table border=\"1\" class=\"dataframe\">\n",
       "  <thead>\n",
       "    <tr style=\"text-align: right;\">\n",
       "      <th></th>\n",
       "      <th>title</th>\n",
       "      <th>text</th>\n",
       "      <th>subject</th>\n",
       "      <th>class</th>\n",
       "    </tr>\n",
       "  </thead>\n",
       "  <tbody>\n",
       "    <tr>\n",
       "      <th>0</th>\n",
       "      <td>JUST IN: CROOKED DOJ OFFICIAL Didn’t Reveal Th...</td>\n",
       "      <td>We ve been covering the curious case of DOJ of...</td>\n",
       "      <td>politics</td>\n",
       "      <td>0</td>\n",
       "    </tr>\n",
       "    <tr>\n",
       "      <th>1</th>\n",
       "      <td>The DIRTY TRUTH About DACA Recipients…Where Th...</td>\n",
       "      <td>Yesterday, a second U.S. judge on Tuesday bloc...</td>\n",
       "      <td>politics</td>\n",
       "      <td>0</td>\n",
       "    </tr>\n",
       "    <tr>\n",
       "      <th>2</th>\n",
       "      <td>HUH? RAPPER JAY-Z Compares Trayvon Martin to M...</td>\n",
       "      <td>Rapper Jay-Z attended the Peace Walk &amp; Peace T...</td>\n",
       "      <td>politics</td>\n",
       "      <td>0</td>\n",
       "    </tr>\n",
       "    <tr>\n",
       "      <th>3</th>\n",
       "      <td>SC STATE REP Who is a Former Cop Proposes Smar...</td>\n",
       "      <td>WHO BETTER THAN A FORMER POLICE OFFICER TO UND...</td>\n",
       "      <td>politics</td>\n",
       "      <td>0</td>\n",
       "    </tr>\n",
       "    <tr>\n",
       "      <th>4</th>\n",
       "      <td>JUST IN: Senate Rejects Immigration Bill…Trump...</td>\n",
       "      <td>How could the Senate be so lame in their effor...</td>\n",
       "      <td>politics</td>\n",
       "      <td>0</td>\n",
       "    </tr>\n",
       "  </tbody>\n",
       "</table>\n",
       "</div>"
      ],
      "text/plain": [
       "                                               title  \\\n",
       "0  JUST IN: CROOKED DOJ OFFICIAL Didn’t Reveal Th...   \n",
       "1  The DIRTY TRUTH About DACA Recipients…Where Th...   \n",
       "2  HUH? RAPPER JAY-Z Compares Trayvon Martin to M...   \n",
       "3  SC STATE REP Who is a Former Cop Proposes Smar...   \n",
       "4  JUST IN: Senate Rejects Immigration Bill…Trump...   \n",
       "\n",
       "                                                text   subject  class  \n",
       "0  We ve been covering the curious case of DOJ of...  politics      0  \n",
       "1  Yesterday, a second U.S. judge on Tuesday bloc...  politics      0  \n",
       "2  Rapper Jay-Z attended the Peace Walk & Peace T...  politics      0  \n",
       "3  WHO BETTER THAN A FORMER POLICE OFFICER TO UND...  politics      0  \n",
       "4  How could the Senate be so lame in their effor...  politics      0  "
      ]
     },
     "execution_count": 20,
     "metadata": {},
     "output_type": "execute_result"
    }
   ],
   "source": [
    "data.head()"
   ]
  },
  {
   "cell_type": "code",
   "execution_count": 21,
   "metadata": {},
   "outputs": [],
   "source": [
    "# Combined_text = [None] * len(data['text'])\n",
    "# for i in range(len(data['title'])):\n",
    "#     Combined_text[i] = data['text'][i] + \" \" + data['title'][i] + \" \" + data['subject'][i]\n",
    "    \n",
    "# data['combined_text'] = Combined_text"
   ]
  },
  {
   "cell_type": "code",
   "execution_count": 22,
   "metadata": {},
   "outputs": [
    {
     "data": {
      "text/html": [
       "<div>\n",
       "<style scoped>\n",
       "    .dataframe tbody tr th:only-of-type {\n",
       "        vertical-align: middle;\n",
       "    }\n",
       "\n",
       "    .dataframe tbody tr th {\n",
       "        vertical-align: top;\n",
       "    }\n",
       "\n",
       "    .dataframe thead th {\n",
       "        text-align: right;\n",
       "    }\n",
       "</style>\n",
       "<table border=\"1\" class=\"dataframe\">\n",
       "  <thead>\n",
       "    <tr style=\"text-align: right;\">\n",
       "      <th></th>\n",
       "      <th>Unnamed: 0</th>\n",
       "      <th>combined_text</th>\n",
       "    </tr>\n",
       "  </thead>\n",
       "  <tbody>\n",
       "    <tr>\n",
       "      <th>0</th>\n",
       "      <td>0</td>\n",
       "      <td>ve cover curious case doj offici bruce ohr wif...</td>\n",
       "    </tr>\n",
       "    <tr>\n",
       "      <th>1</th>\n",
       "      <td>1</td>\n",
       "      <td>yesterday second u s judg tuesday block presid...</td>\n",
       "    </tr>\n",
       "    <tr>\n",
       "      <th>2</th>\n",
       "      <td>2</td>\n",
       "      <td>rapper jay z attend peac walk peac talk miami ...</td>\n",
       "    </tr>\n",
       "    <tr>\n",
       "      <th>3</th>\n",
       "      <td>3</td>\n",
       "      <td>better polic offic understand gun equal better...</td>\n",
       "    </tr>\n",
       "    <tr>\n",
       "      <th>4</th>\n",
       "      <td>4</td>\n",
       "      <td>senat lame effort produc immigr senat ted cruz...</td>\n",
       "    </tr>\n",
       "  </tbody>\n",
       "</table>\n",
       "</div>"
      ],
      "text/plain": [
       "   Unnamed: 0                                      combined_text\n",
       "0           0  ve cover curious case doj offici bruce ohr wif...\n",
       "1           1  yesterday second u s judg tuesday block presid...\n",
       "2           2  rapper jay z attend peac walk peac talk miami ...\n",
       "3           3  better polic offic understand gun equal better...\n",
       "4           4  senat lame effort produc immigr senat ted cruz..."
      ]
     },
     "execution_count": 22,
     "metadata": {},
     "output_type": "execute_result"
    }
   ],
   "source": [
    "comb  = pd.read_csv('combtext.csv')\n",
    "comb.head()"
   ]
  },
  {
   "cell_type": "code",
   "execution_count": 24,
   "metadata": {},
   "outputs": [
    {
     "data": {
      "text/html": [
       "<div>\n",
       "<style scoped>\n",
       "    .dataframe tbody tr th:only-of-type {\n",
       "        vertical-align: middle;\n",
       "    }\n",
       "\n",
       "    .dataframe tbody tr th {\n",
       "        vertical-align: top;\n",
       "    }\n",
       "\n",
       "    .dataframe thead th {\n",
       "        text-align: right;\n",
       "    }\n",
       "</style>\n",
       "<table border=\"1\" class=\"dataframe\">\n",
       "  <thead>\n",
       "    <tr style=\"text-align: right;\">\n",
       "      <th></th>\n",
       "      <th>title</th>\n",
       "      <th>text</th>\n",
       "      <th>subject</th>\n",
       "      <th>class</th>\n",
       "      <th>combined_text</th>\n",
       "    </tr>\n",
       "  </thead>\n",
       "  <tbody>\n",
       "    <tr>\n",
       "      <th>0</th>\n",
       "      <td>JUST IN: CROOKED DOJ OFFICIAL Didn’t Reveal Th...</td>\n",
       "      <td>We ve been covering the curious case of DOJ of...</td>\n",
       "      <td>politics</td>\n",
       "      <td>0</td>\n",
       "      <td>ve cover curious case doj offici bruce ohr wif...</td>\n",
       "    </tr>\n",
       "    <tr>\n",
       "      <th>1</th>\n",
       "      <td>The DIRTY TRUTH About DACA Recipients…Where Th...</td>\n",
       "      <td>Yesterday, a second U.S. judge on Tuesday bloc...</td>\n",
       "      <td>politics</td>\n",
       "      <td>0</td>\n",
       "      <td>yesterday second u s judg tuesday block presid...</td>\n",
       "    </tr>\n",
       "    <tr>\n",
       "      <th>2</th>\n",
       "      <td>HUH? RAPPER JAY-Z Compares Trayvon Martin to M...</td>\n",
       "      <td>Rapper Jay-Z attended the Peace Walk &amp; Peace T...</td>\n",
       "      <td>politics</td>\n",
       "      <td>0</td>\n",
       "      <td>rapper jay z attend peac walk peac talk miami ...</td>\n",
       "    </tr>\n",
       "    <tr>\n",
       "      <th>3</th>\n",
       "      <td>SC STATE REP Who is a Former Cop Proposes Smar...</td>\n",
       "      <td>WHO BETTER THAN A FORMER POLICE OFFICER TO UND...</td>\n",
       "      <td>politics</td>\n",
       "      <td>0</td>\n",
       "      <td>better polic offic understand gun equal better...</td>\n",
       "    </tr>\n",
       "    <tr>\n",
       "      <th>4</th>\n",
       "      <td>JUST IN: Senate Rejects Immigration Bill…Trump...</td>\n",
       "      <td>How could the Senate be so lame in their effor...</td>\n",
       "      <td>politics</td>\n",
       "      <td>0</td>\n",
       "      <td>senat lame effort produc immigr senat ted cruz...</td>\n",
       "    </tr>\n",
       "  </tbody>\n",
       "</table>\n",
       "</div>"
      ],
      "text/plain": [
       "                                               title  \\\n",
       "0  JUST IN: CROOKED DOJ OFFICIAL Didn’t Reveal Th...   \n",
       "1  The DIRTY TRUTH About DACA Recipients…Where Th...   \n",
       "2  HUH? RAPPER JAY-Z Compares Trayvon Martin to M...   \n",
       "3  SC STATE REP Who is a Former Cop Proposes Smar...   \n",
       "4  JUST IN: Senate Rejects Immigration Bill…Trump...   \n",
       "\n",
       "                                                text   subject  class  \\\n",
       "0  We ve been covering the curious case of DOJ of...  politics      0   \n",
       "1  Yesterday, a second U.S. judge on Tuesday bloc...  politics      0   \n",
       "2  Rapper Jay-Z attended the Peace Walk & Peace T...  politics      0   \n",
       "3  WHO BETTER THAN A FORMER POLICE OFFICER TO UND...  politics      0   \n",
       "4  How could the Senate be so lame in their effor...  politics      0   \n",
       "\n",
       "                                       combined_text  \n",
       "0  ve cover curious case doj offici bruce ohr wif...  \n",
       "1  yesterday second u s judg tuesday block presid...  \n",
       "2  rapper jay z attend peac walk peac talk miami ...  \n",
       "3  better polic offic understand gun equal better...  \n",
       "4  senat lame effort produc immigr senat ted cruz...  "
      ]
     },
     "execution_count": 24,
     "metadata": {},
     "output_type": "execute_result"
    }
   ],
   "source": [
    "data['combined_text'] = comb['combined_text']\n",
    "data.head()"
   ]
  },
  {
   "cell_type": "code",
   "execution_count": 25,
   "metadata": {},
   "outputs": [],
   "source": [
    "data = pd.DataFrame.drop(data,columns=['title','text','subject'],axis=1)"
   ]
  },
  {
   "cell_type": "code",
   "execution_count": 26,
   "metadata": {},
   "outputs": [
    {
     "data": {
      "text/html": [
       "<div>\n",
       "<style scoped>\n",
       "    .dataframe tbody tr th:only-of-type {\n",
       "        vertical-align: middle;\n",
       "    }\n",
       "\n",
       "    .dataframe tbody tr th {\n",
       "        vertical-align: top;\n",
       "    }\n",
       "\n",
       "    .dataframe thead th {\n",
       "        text-align: right;\n",
       "    }\n",
       "</style>\n",
       "<table border=\"1\" class=\"dataframe\">\n",
       "  <thead>\n",
       "    <tr style=\"text-align: right;\">\n",
       "      <th></th>\n",
       "      <th>class</th>\n",
       "      <th>combined_text</th>\n",
       "    </tr>\n",
       "  </thead>\n",
       "  <tbody>\n",
       "    <tr>\n",
       "      <th>0</th>\n",
       "      <td>0</td>\n",
       "      <td>ve cover curious case doj offici bruce ohr wif...</td>\n",
       "    </tr>\n",
       "    <tr>\n",
       "      <th>1</th>\n",
       "      <td>0</td>\n",
       "      <td>yesterday second u s judg tuesday block presid...</td>\n",
       "    </tr>\n",
       "    <tr>\n",
       "      <th>2</th>\n",
       "      <td>0</td>\n",
       "      <td>rapper jay z attend peac walk peac talk miami ...</td>\n",
       "    </tr>\n",
       "    <tr>\n",
       "      <th>3</th>\n",
       "      <td>0</td>\n",
       "      <td>better polic offic understand gun equal better...</td>\n",
       "    </tr>\n",
       "    <tr>\n",
       "      <th>4</th>\n",
       "      <td>0</td>\n",
       "      <td>senat lame effort produc immigr senat ted cruz...</td>\n",
       "    </tr>\n",
       "  </tbody>\n",
       "</table>\n",
       "</div>"
      ],
      "text/plain": [
       "   class                                      combined_text\n",
       "0      0  ve cover curious case doj offici bruce ohr wif...\n",
       "1      0  yesterday second u s judg tuesday block presid...\n",
       "2      0  rapper jay z attend peac walk peac talk miami ...\n",
       "3      0  better polic offic understand gun equal better...\n",
       "4      0  senat lame effort produc immigr senat ted cruz..."
      ]
     },
     "execution_count": 26,
     "metadata": {},
     "output_type": "execute_result"
    }
   ],
   "source": [
    "data.head()"
   ]
  },
  {
   "cell_type": "code",
   "execution_count": 27,
   "metadata": {},
   "outputs": [],
   "source": [
    "bow = CountVectorizer(ngram_range=(1,2))\n",
    "bow_text = bow.fit_transform(data['combined_text'])"
   ]
  },
  {
   "cell_type": "code",
   "execution_count": 28,
   "metadata": {},
   "outputs": [],
   "source": [
    "tfidf = TfidfVectorizer(ngram_range=(1,2))\n",
    "tfidf_text = tfidf.fit_transform(data['combined_text'])"
   ]
  },
  {
   "cell_type": "code",
   "execution_count": 29,
   "metadata": {},
   "outputs": [
    {
     "data": {
      "text/plain": [
       "(44898, 3014285)"
      ]
     },
     "execution_count": 29,
     "metadata": {},
     "output_type": "execute_result"
    }
   ],
   "source": [
    "bow_text.shape"
   ]
  },
  {
   "cell_type": "code",
   "execution_count": 30,
   "metadata": {},
   "outputs": [
    {
     "data": {
      "text/plain": [
       "(44898,)"
      ]
     },
     "execution_count": 30,
     "metadata": {},
     "output_type": "execute_result"
    }
   ],
   "source": [
    "labels = data['class'].reset_index(drop=True)\n",
    "labels.shape"
   ]
  },
  {
   "cell_type": "code",
   "execution_count": 31,
   "metadata": {},
   "outputs": [],
   "source": [
    "X_train_bow = bow_text[:31428]\n",
    "X_test_bow = bow_text[31428:]\n",
    "X_train_tfidf = tfidf_text[:31428]\n",
    "X_test_tfidf = tfidf_text[31428:]\n",
    "Y_train = labels[:31428]\n",
    "Y_test = labels[31428:]"
   ]
  },
  {
   "cell_type": "code",
   "execution_count": 32,
   "metadata": {},
   "outputs": [
    {
     "data": {
      "text/plain": [
       "<matplotlib.axes._subplots.AxesSubplot at 0x28c28f33040>"
      ]
     },
     "execution_count": 32,
     "metadata": {},
     "output_type": "execute_result"
    },
    {
     "data": {
      "image/png": "[encoded data removed]",
      "text/plain": [
       "<Figure size 432x288 with 1 Axes>"
      ]
     },
     "metadata": {
      "needs_background": "light"
     },
     "output_type": "display_data"
    }
   ],
   "source": [
    "sns.countplot(Y_train)"
   ]
  },
  {
   "cell_type": "code",
   "execution_count": 33,
   "metadata": {},
   "outputs": [
    {
     "data": {
      "text/plain": [
       "<matplotlib.axes._subplots.AxesSubplot at 0x28c59a99ac0>"
      ]
     },
     "execution_count": 33,
     "metadata": {},
     "output_type": "execute_result"
    },
    {
     "data": {
      "image/png": "[encoded data removed]",
      "text/plain": [
       "<Figure size 432x288 with 1 Axes>"
      ]
     },
     "metadata": {
      "needs_background": "light"
     },
     "output_type": "display_data"
    }
   ],
   "source": [
    "sns.countplot(Y_test)"
   ]
  },
  {
   "cell_type": "code",
   "execution_count": 46,
   "metadata": {},
   "outputs": [],
   "source": [
    "def plot_conf_matrix(Y_test,Y_pred):\n",
    "    conf = confusion_matrix(Y_test,Y_pred)\n",
    "    recall =(((conf.T)/(conf.sum(axis=1))).T)\n",
    "    precision =(conf/conf.sum(axis=0))\n",
    "    \n",
    "    print(\"*\"*100)\n",
    "    class_labels = [0,1]\n",
    "    plt.figure(figsize=(10,8))\n",
    "    sns.heatmap(conf,annot=True,fmt=\".3f\",cmap=\"YlOrBr\",xticklabels=class_labels,yticklabels=class_labels)\n",
    "    plt.xlabel('Predicted Class')\n",
    "    plt.ylabel('Original Class')\n",
    "    plt.show()\n",
    "    \n",
    "    print(\"*\"*100)\n",
    "    plt.figure(figsize=(10,8))\n",
    "    sns.heatmap(precision,annot=True,fmt=\".3f\",cmap=\"YlOrBr\",xticklabels=class_labels,yticklabels=class_labels)\n",
    "    plt.xlabel('Predicted Class')\n",
    "    plt.ylabel('Original Class')\n",
    "    plt.show()\n",
    "    \n",
    "    print(\"*\"*100)\n",
    "    plt.figure(figsize=(10,8))\n",
    "    sns.heatmap(recall,annot=True,fmt=\".3f\",cmap=\"YlOrBr\",xticklabels=class_labels,yticklabels=class_labels)\n",
    "    plt.xlabel('Predicted Class')\n",
    "    plt.ylabel('Original Class')\n",
    "    plt.show()"
   ]
  },
  {
   "cell_type": "code",
   "execution_count": 38,
   "metadata": {},
   "outputs": [
    {
     "name": "stdout",
     "output_type": "stream",
     "text": [
      "For values of C :  0.001  the log loss is :  0.33590310987529626\n",
      "For values of C :  0.01  the log loss is :  0.17692641125273392\n",
      "For values of C :  0.1  the log loss is :  0.14615672190371992\n",
      "For values of C :  1  the log loss is :  0.14359265532632715\n",
      "For values of C :  10  the log loss is :  0.13846446281018823\n",
      "For values of C :  100  the log loss is :  0.13077208499394977\n",
      "For values of C :  1000  the log loss is :  0.14102870747164117\n"
     ]
    },
    {
     "data": {
      "image/png": "[encoded data removed]",
      "text/plain": [
       "<Figure size 720x576 with 1 Axes>"
      ]
     },
     "metadata": {
      "needs_background": "light"
     },
     "output_type": "display_data"
    },
    {
     "name": "stdout",
     "output_type": "stream",
     "text": [
      "For best values of C :  100  the train loss is :  9.992007221626413e-16\n",
      "For best values of C :  100  the test loss is :  0.13077208499394977\n"
     ]
    },
    {
     "ename": "TypeError",
     "evalue": "plot_conf_matrix() takes 1 positional argument but 2 were given",
     "output_type": "error",
     "traceback": [
      "\u001b[1;31m---------------------------------------------------------------------------\u001b[0m",
      "\u001b[1;31mTypeError\u001b[0m                                 Traceback (most recent call last)",
      "\u001b[1;32m<ipython-input-38-7750a0928359>\u001b[0m in \u001b[0;36m<module>\u001b[1;34m\u001b[0m\n\u001b[0;32m     26\u001b[0m \u001b[0mprint\u001b[0m\u001b[1;33m(\u001b[0m\u001b[1;34m\"For best values of C : \"\u001b[0m\u001b[1;33m,\u001b[0m\u001b[0mC\u001b[0m\u001b[1;33m[\u001b[0m\u001b[0mbest_c\u001b[0m\u001b[1;33m]\u001b[0m\u001b[1;33m,\u001b[0m\u001b[1;34m\" the test loss is : \"\u001b[0m\u001b[1;33m,\u001b[0m\u001b[0mlog_loss\u001b[0m\u001b[1;33m(\u001b[0m\u001b[0mY_test\u001b[0m\u001b[1;33m,\u001b[0m\u001b[0mtest_pred\u001b[0m\u001b[1;33m)\u001b[0m\u001b[1;33m)\u001b[0m\u001b[1;33m\u001b[0m\u001b[1;33m\u001b[0m\u001b[0m\n\u001b[0;32m     27\u001b[0m \u001b[1;33m\u001b[0m\u001b[0m\n\u001b[1;32m---> 28\u001b[1;33m \u001b[0mplot_conf_matrix\u001b[0m\u001b[1;33m(\u001b[0m\u001b[0mY_test\u001b[0m\u001b[1;33m,\u001b[0m\u001b[0mtest_pred\u001b[0m\u001b[1;33m)\u001b[0m\u001b[1;33m\u001b[0m\u001b[1;33m\u001b[0m\u001b[0m\n\u001b[0m",
      "\u001b[1;31mTypeError\u001b[0m: plot_conf_matrix() takes 1 positional argument but 2 were given"
     ]
    }
   ],
   "source": [
    "C = [0.001,0.01,0.1,1,10,100,1000]\n",
    "loss_array = []\n",
    "\n",
    "for i in C:\n",
    "    lr = LogisticRegression(C=i,max_iter=5000)\n",
    "    lr.fit(X_train_bow,Y_train)\n",
    "    pred = lr.predict(X_test_bow)\n",
    "    loss_array.append(log_loss(Y_test,pred))\n",
    "    print(\"For values of C : \",i,\" the log loss is : \",log_loss(Y_test,pred))\n",
    "    \n",
    "plt.figure(figsize=(10,8))\n",
    "plt.plot(C,loss_array,color='yellow')\n",
    "plt.title(\"Log loss graph\")\n",
    "plt.xlabel(\"C\")\n",
    "plt.ylabel(\"los_loss\")\n",
    "plt.show()\n",
    "\n",
    "best_c = np.argmin(loss_array)\n",
    "lr = LogisticRegression(C=C[best_c],max_iter=5000)\n",
    "lr.fit(X_train_bow,Y_train)\n",
    "\n",
    "train_pred = lr.predict(X_train_bow)\n",
    "print(\"For best values of C : \",C[best_c],\" the train loss is : \",log_loss(Y_train,train_pred))\n",
    "\n",
    "test_pred = lr.predict(X_test_bow)\n",
    "print(\"For best values of C : \",C[best_c],\" the test loss is : \",log_loss(Y_test,test_pred))\n"
   ]
  },
  {
   "cell_type": "code",
   "execution_count": 50,
   "metadata": {
    "scrolled": false
   },
   "outputs": [
    {
     "name": "stdout",
     "output_type": "stream",
     "text": [
      "****************************************************************************************************\n"
     ]
    },
    {
     "data": {
      "image/png": "[encoded data removed]",
      "text/plain": [
       "<Figure size 720x576 with 2 Axes>"
      ]
     },
     "metadata": {
      "needs_background": "light"
     },
     "output_type": "display_data"
    },
    {
     "name": "stdout",
     "output_type": "stream",
     "text": [
      "****************************************************************************************************\n"
     ]
    },
    {
     "data": {
      "image/png": "[encoded data removed]",
      "text/plain": [
       "<Figure size 720x576 with 2 Axes>"
      ]
     },
     "metadata": {
      "needs_background": "light"
     },
     "output_type": "display_data"
    },
    {
     "name": "stdout",
     "output_type": "stream",
     "text": [
      "****************************************************************************************************\n"
     ]
    },
    {
     "data": {
      "image/png": "[encoded data removed]",
      "text/plain": [
       "<Figure size 720x576 with 2 Axes>"
      ]
     },
     "metadata": {
      "needs_background": "light"
     },
     "output_type": "display_data"
    },
    {
     "data": {
      "text/plain": [
       "0.9962138084632517"
      ]
     },
     "execution_count": 50,
     "metadata": {},
     "output_type": "execute_result"
    }
   ],
   "source": [
    "plot_conf_matrix(Y_test,test_pred)\n",
    "lr.score(X_test_bow,Y_test)"
   ]
  },
  {
   "cell_type": "code",
   "execution_count": null,
   "metadata": {},
   "outputs": [],
   "source": [
    "C = [1,10,100]\n",
    "loss_array = []\n",
    "\n",
    "for i in C:\n",
    "    lr = LogisticRegression(C=i,max_iter=5000)\n",
    "    lr.fit(X_train_tfidf,Y_train)\n",
    "    pred = lr.predict(X_test_tfidf)\n",
    "    loss_array.append(log_loss(Y_test,pred))\n",
    "    print(\"For values of C : \",i,\" the log loss is : \",log_loss(Y_test,pred))\n",
    "    \n",
    "plt.figure(figsize=(10,8))\n",
    "plt.plot(C,loss_array,color='yellow')\n",
    "plt.title(\"Log loss graph\")\n",
    "plt.xlabel(\"C\")\n",
    "plt.ylabel(\"los_loss\")\n",
    "plt.show()\n",
    "\n",
    "best_c = np.argmin(loss_array)\n",
    "lr = LogisticRegression(C=C[best_c],max_iter=5000)\n",
    "lr.fit(X_train_tfidf,Y_train)\n",
    "\n",
    "train_pred = lr.predict(X_train_tfidf)\n",
    "print(\"For best values of C : \",C[best_c],\" the train loss is : \",log_loss(Y_train,train_pred))\n",
    "\n",
    "test_pred = lr.predict(X_test_tfidf)\n",
    "print(\"For best values of C : \",C[best_c],\" the test loss is : \",log_loss(Y_test,test_pred))\n",
    "\n",
    "plot_conf_matrix(Y_test,test_pred)\n",
    "print(\"Accuracy :\",lr.score(X_test_tfidf,Y_test)*100)"
   ]
  },
  {
   "cell_type": "markdown",
   "metadata": {},
   "source": [
    "# Random Forest :"
   ]
  },
  {
   "cell_type": "code",
   "execution_count": null,
   "metadata": {},
   "outputs": [],
   "source": [
    "n = [10,20,50]\n",
    "loss_array = []\n",
    "\n",
    "for i in n:\n",
    "    rf = RandomForestClassifier(n_estimators=i)\n",
    "    rf.fit(X_train_bow,Y_train)\n",
    "    pred = rf.predict(X_test_bow)\n",
    "    loss_array.append(log_loss(Y_test,pred))\n",
    "    print(\"For values of n_estimator : \",i,\" the log loss is : \",log_loss(Y_test,pred))\n",
    "    \n",
    "plt.figure(figsize=(10,8))\n",
    "plt.plot(n,loss_array,color='brown')\n",
    "plt.title(\"Log loss graph\")\n",
    "plt.xlabel(\"Number of estimators\")\n",
    "plt.ylabel(\"los_loss\")\n",
    "plt.show()\n",
    "\n",
    "best_n = np.argmin(loss_array)\n",
    "rf = RandomForestClassifier(n_estimators=n[best_n])\n",
    "rf.fit(X_train_bow,Y_train)\n",
    "\n",
    "train_pred = rf.predict(X_train_bow)\n",
    "print(\"For best values of n_estimator : \",n[best_n],\" the train loss is : \",log_loss(Y_train,train_pred))\n",
    "\n",
    "test_pred = rf.predict(X_test_bow)\n",
    "print(\"For best values of n_estmator : \",n[best_n],\" the test loss is : \",log_loss(Y_test,test_pred))\n",
    "\n",
    "plot_conf_matrix(Y_test,test_pred)\n",
    "print(\"Accuracy : \",accuracy_score(Y_test,test_pred)*100)"
   ]
  },
  {
   "cell_type": "code",
   "execution_count": 1,
   "metadata": {},
   "outputs": [
    {
     "ename": "NameError",
     "evalue": "name 'RandomForestClassifier' is not defined",
     "output_type": "error",
     "traceback": [
      "\u001b[1;31m---------------------------------------------------------------------------\u001b[0m",
      "\u001b[1;31mNameError\u001b[0m                                 Traceback (most recent call last)",
      "\u001b[1;32m<ipython-input-1-e645c82465bb>\u001b[0m in \u001b[0;36m<module>\u001b[1;34m\u001b[0m\n\u001b[0;32m      3\u001b[0m \u001b[1;33m\u001b[0m\u001b[0m\n\u001b[0;32m      4\u001b[0m \u001b[1;32mfor\u001b[0m \u001b[0mi\u001b[0m \u001b[1;32min\u001b[0m \u001b[0mn\u001b[0m\u001b[1;33m:\u001b[0m\u001b[1;33m\u001b[0m\u001b[1;33m\u001b[0m\u001b[0m\n\u001b[1;32m----> 5\u001b[1;33m     \u001b[0mrf\u001b[0m \u001b[1;33m=\u001b[0m \u001b[0mRandomForestClassifier\u001b[0m\u001b[1;33m(\u001b[0m\u001b[0mn_estimators\u001b[0m\u001b[1;33m=\u001b[0m\u001b[0mi\u001b[0m\u001b[1;33m)\u001b[0m\u001b[1;33m\u001b[0m\u001b[1;33m\u001b[0m\u001b[0m\n\u001b[0m\u001b[0;32m      6\u001b[0m     \u001b[0mrf\u001b[0m\u001b[1;33m.\u001b[0m\u001b[0mfit\u001b[0m\u001b[1;33m(\u001b[0m\u001b[0mX_train_tfidf\u001b[0m\u001b[1;33m,\u001b[0m\u001b[0mY_train\u001b[0m\u001b[1;33m)\u001b[0m\u001b[1;33m\u001b[0m\u001b[1;33m\u001b[0m\u001b[0m\n\u001b[0;32m      7\u001b[0m     \u001b[0mpred\u001b[0m \u001b[1;33m=\u001b[0m \u001b[0mrf\u001b[0m\u001b[1;33m.\u001b[0m\u001b[0mpredict\u001b[0m\u001b[1;33m(\u001b[0m\u001b[0mX_test_tfidf\u001b[0m\u001b[1;33m)\u001b[0m\u001b[1;33m\u001b[0m\u001b[1;33m\u001b[0m\u001b[0m\n",
      "\u001b[1;31mNameError\u001b[0m: name 'RandomForestClassifier' is not defined"
     ]
    }
   ],
   "source": [
    "n = [10,20,50]\n",
    "loss_array = []\n",
    "\n",
    "for i in n:\n",
    "    rf = RandomForestClassifier(n_estimators=i)\n",
    "    rf.fit(X_train_tfidf,Y_train)\n",
    "    pred = rf.predict(X_test_tfidf)\n",
    "    loss_array.append(log_loss(Y_test,pred))\n",
    "    print(\"For values of n_estimator : \",i,\" the log loss is : \",log_loss(Y_test,pred))\n",
    "    \n",
    "plt.figure(figsize=(10,8))\n",
    "plt.plot(n,loss_array,color='brown')\n",
    "plt.title(\"Log loss graph\")\n",
    "plt.xlabel(\"Number of estimators\")\n",
    "plt.ylabel(\"los_loss\")\n",
    "plt.grid()\n",
    "plt.show()\n",
    "\n",
    "best_n = np.argmin(loss_array)\n",
    "rf = RandomForestClassifier(n_estimators=n[best_n])\n",
    "rf.fit(X_train_tfidf,Y_train)\n",
    "\n",
    "train_pred = rf.predict(X_train_tfidf)\n",
    "print(\"For best values of n_estimator : \",n[best_n],\" the train loss is : \",log_loss(Y_train,train_pred))\n",
    "\n",
    "test_pred = rf.predict(X_test_tfidf)\n",
    "print(\"For best values of n_estmator : \",n[best_n],\" the test loss is : \",log_loss(Y_test,test_pred))\n",
    "\n",
    "print(\"Accuracy : \",accuracy_score(Y_test,test_pred)*100)\n",
    "plot_conf_matrix(Y_test,test_pred)"
   ]
  },
  {
   "cell_type": "markdown",
   "metadata": {},
   "source": [
    "# Linear SVM :"
   ]
  },
  {
   "cell_type": "code",
   "execution_count": null,
   "metadata": {},
   "outputs": [],
   "source": [
    "C = [0.01,0.1,1]\n",
    "loss_array = []\n",
    "\n",
    "for i in C:\n",
    "    li_svm = SVC(C=i,kernel='linear')\n",
    "    li_svm.fit(X_train_bow,Y_train)\n",
    "    pred = li_svm.predict(X_test_bow)\n",
    "    loss_array.append(log_loss(Y_test,pred))\n",
    "    print(\"For value of C : \",i,\" the log loss is : \",log_loss(Y_test,pred))\n",
    "    \n",
    "plt.figure(figsize=(10,8))\n",
    "plt.plot(C,loss_array,color='brown')\n",
    "plt.title(\"Log loss graph\")\n",
    "plt.xlabel(\"C\")\n",
    "plt.ylabel(\"los_loss\")\n",
    "plt.grid()\n",
    "plt.show()\n",
    "-\n",
    "best_c = np.argmin(loss_array)\n",
    "li_svm = SVC(C=C[best_c],kernel='linear')\n",
    "li_svm.fit(X_train_bow,Y_train)\n",
    "\n",
    "train_pred = li_svm.predict(X_train_bow)\n",
    "print(\"For best value of C : \",C[best_c],\" the train loss is : \",log_loss(Y_train,train_pred))\n",
    "\n",
    "test_pred = li_svm.predict(X_test_bow)\n",
    "print(\"For best value of C : \",C[best_c],\" the test loss is : \",log_loss(Y_test,test_pred))\n",
    "\n",
    "print(\"Accuracy : \",accuracy_score(Y_test,test_pred)*100)\n",
    "plot_conf_matrix(Y_test,test_pred)"
   ]
  },
  {
   "cell_type": "code",
   "execution_count": null,
   "metadata": {},
   "outputs": [],
   "source": [
    "C = [0.01,0.1,1]\n",
    "loss_array = []\n",
    "\n",
    "for i in C:\n",
    "    li_svm = SVC(C=i,kernel='linear')\n",
    "    li_svm.fit(X_train_tfidf,Y_train)\n",
    "    pred = li_svm.predict(X_test_tfidf)\n",
    "    loss_array.append(log_loss(Y_test,pred))\n",
    "    print(\"For value of C : \",i,\" the log loss is : \",log_loss(Y_test,pred))\n",
    "    \n",
    "plt.figure(figsize=(10,8))\n",
    "plt.plot(C,loss_array,co-lor='brown')\n",
    "plt.title(\"Log loss graph\")\n",
    "plt.xlabel(\"C\")\n",
    "plt.ylabel(\"los_loss\")\n",
    "plt.grid()\n",
    "plt.show()\n",
    "\n",
    "best_c = np.argmin(loss_array)\n",
    "li_svm = SVC(C=C[best_c],kernel='linear')\n",
    "li_svm.fit(X_train_tfidf,Y_train)\n",
    "\n",
    "train_pred = li_svm.predict(X_train_tfidf)\n",
    "print(\"For best value of C : \",C[best_c],\" the train loss is : \",log_loss(Y_train,train_pred))\n",
    "\n",
    "test_pred = li_svm.predict(X_test_tfidf)\n",
    "print(\"For best value of C : \",C[best_c],\" the test loss is : \",log_loss(Y_test,test_pred))\n",
    "\n",
    "print(\"Accuracy : \",accuracy_score(Y_test,test_pred)*100)\n",
    "plot_conf_matrix(Y_test,test_pred)"
   ]
  },
  {
   "cell_type": "markdown",
   "metadata": {},
   "source": [
    "# RBF SVM :\n"
   ]
  },
  {
   "cell_type": "code",
   "execution_count": null,
   "metadata": {},
   "outputs": [],
   "source": [
    "C = [0.01,0.1,1]\n",
    "loss_array = []\n",
    "\n",
    "for i in C:\n",
    "    rbf_svm = SVC(C=i,kernel='rbf')\n",
    "    rbf_svm.fit(X_train_bow,Y_train)\n",
    "    pred = rbf_svm.predict(X_test_bow)\n",
    "    loss_array.append(log_loss(Y_test,pred))\n",
    "    print(\"For value of C : \",i,\" the log loss is : \",log_loss(Y_test,pred))\n",
    "    \n",
    "plt.figure(figsize=(10,8))\n",
    "plt.plot(C,loss_array,color='brown')\n",
    "plt.title(\"Log loss graph\")\n",
    "plt.xlabel(\"C\")\n",
    "plt.ylabel(\"los_loss\")\n",
    "plt.grid()\n",
    "plt.show()\n",
    "\n",
    "best_c = np.argmin(loss_array)\n",
    "rbf_svm = SVC(C=C[best_c],kernel='rbf')\n",
    "rbf_svm.fit(X_train_bow,Y_train)\n",
    "\n",
    "train_pred = rbf_svm.predict(X_train_bow)\n",
    "print(\"For best value of C : \",C[best_c],\" the train loss is : \",log_loss(Y_train,train_pred))\n",
    "\n",
    "test_pred = rbf_svm.predict(X_test_bow)\n",
    "print(\"For best value of C : \",C[best_c],\" the test loss is : \",log_loss(Y_test,test_pred))\n",
    "\n",
    "print(\"Accuracy : \",accuracy_score(Y_test,test_pred)*100)\n",
    "plot_conf_matrix(Y_test,test_pred)"
   ]
  },
  {
   "cell_type": "code",
   "execution_count": null,
   "metadata": {},
   "outputs": [],
   "source": [
    "C = [0.01,0.1,1]\n",
    "loss_array = []\n",
    "\n",
    "for i in C:\n",
    "    rbf_svm = SVC(C=i,kernel='rbf')\n",
    "    rbf_svm.fit(X_train_bow,Y_train)\n",
    "    pred = rbf_svm.predict(X_test_bow)\n",
    "    loss_array.append(log_loss(Y_test,pred))\n",
    "    print(\"For value of C : \",i,\" the log loss is : \",log_loss(Y_test,pred))\n",
    "    \n",
    "plt.figure(figsize=(10,8))\n",
    "plt.plot(C,loss_array,color='brown')\n",
    "plt.title(\"Log loss graph\")\n",
    "plt.xlabel(\"C\")\n",
    "plt.ylabel(\"los_loss\")\n",
    "plt.grid()\n",
    "plt.show()\n",
    "\n",
    "best_c = np.argmin(loss_array)\n",
    "rbf_svm = SVC(C=C[best_c],kernel='rbf')\n",
    "rbf_svm.fit(X_train_bow,Y_train)\n",
    "\n",
    "train_pred = rbf_svm.predict(X_train_bow)\n",
    "print(\"For best value of C : \",C[best_c],\" the train loss is : \",log_loss(Y_train,train_pred))\n",
    "\n",
    "test_pred = rbf_svm.predict(X_test_bow)\n",
    "print(\"For best value of C : \",C[best_c],\" the test loss is : \",log_loss(Y_test,test_pred))\n",
    "\n",
    "print(\"Accuracy : \",accuracy_score(Y_test,test_pred)*100)\n",
    "plot_conf_matrix(Y_test,test_pred)"
   ]
  },
  {
   "cell_type": "markdown",
   "metadata": {},
   "source": [
    "# GBDT :"
   ]
  },
  {
   "cell_type": "code",
   "execution_count": null,
   "metadata": {},
   "outputs": [],
   "source": [
    "n = [10,50,100]\n",
    "loss_array = []\n",
    "\n",
    "for i in n:\n",
    "    gbdt = GradientBoostingClassifier(n_estimators=i)\n",
    "    gbdt.fit(X_train_bow,Y_train)\n",
    "    pred = gbdt.predict(X_test_bow)\n",
    "    loss_array.append(log_loss(Y_test,pred))\n",
    "    print(\"For values of n_estimator : \",i,\" the log loss is : \",log_loss(Y_test,pred))\n",
    "    \n",
    "plt.figure(figsize=(10,8))\n",
    "plt.plot(n,loss_array,color='yellow')\n",
    "plt.title(\"Log loss graph\")\n",
    "plt.xlabel(\"Number of estimators\")\n",
    "plt.ylabel(\"los_loss\")\n",
    "plt.grid()\n",
    "plt.show()\n",
    "\n",
    "best_n = np.argmin(loss_array)\n",
    "gbdt = GradientBoostingClassifier(n_estimators=n[best_n])\n",
    "gbdt.fit(X_train_bow,Y_train)\n",
    "\n",
    "train_pred = gbdt.predict(X_train_bow)\n",
    "print(\"For best values of n_estimator : \",n[best_n],\" the train loss is : \",log_loss(Y_train,train_pred))\n",
    "\n",
    "test_pred = gbdt.predict(X_test_bow)\n",
    "print(\"For best values of n_estmator : \",n[best_n],\" the test loss is : \",log_loss(Y_test,test_pred))\n",
    "\n",
    "print(\"Accuracy : \",accuracy_score(Y_test,test_pred)*100)\n",
    "plot_conf_matrix(Y_test,test_pred)"
   ]
  },
  {
   "cell_type": "code",
   "execution_count": null,
   "metadata": {},
   "outputs": [],
   "source": [
    "n = [10,50,100]\n",
    "loss_array = []\n",
    "\n",
    "for i in n:\n",
    "    gbdt = GradientBoostingClassifier(n_estimators=i)\n",
    "    gbdt.fit(X_train_tfidf,Y_train)\n",
    "    pred = gbdt.predict(X_test_tfidf)\n",
    "    loss_array.append(log_loss(Y_test,pred))\n",
    "    print(\"For values of n_estimator : \",i,\" the log loss is : \",log_loss(Y_test,pred))\n",
    "    \n",
    "plt.figure(figsize=(10,8))\n",
    "plt.plot(n,loss_array,color='yellow')\n",
    "plt.title(\"Log loss graph\")\n",
    "plt.xlabel(\"Number of estimators\")\n",
    "plt.ylabel(\"los_loss\")\n",
    "plt.grid()\n",
    "plt.show()\n",
    "\n",
    "best_n = np.argmin(loss_array)\n",
    "gbdt = GradientBoostingClassifier(n_estimators=n[best_n])\n",
    "gbdt.fit(X_train_tfidf,Y_train)\n",
    "\n",
    "train_pred = gbdt.predict(X_train_tfidf)\n",
    "print(\"For best values of n_estimator : \",n[best_n],\" the train loss is : \",log_loss(Y_train,train_pred))\n",
    "\n",
    "test_pred = gbdt.predict(X_test_tfidf)\n",
    "print(\"For best values of n_estmator : \",n[best_n],\" the test loss is : \",log_loss(Y_test,test_pred))\n",
    "\n",
    "print(\"Accuracy : \",accuracy_score(Y_test,test_pred)*100)\n",
    "plot_conf_matrix(Y_test,test_pred)"
   ]
  },
  {
   "cell_type": "markdown",
   "metadata": {},
   "source": [
    "# Decision Tree :"
   ]
  },
  {
   "cell_type": "code",
   "execution_count": null,
   "metadata": {},
   "outputs": [],
   "source": [
    "n = [10,50,100]\n",
    "loss_array = []\n",
    "\n",
    "for i in n:\n",
    "    dt = DecisionTreeClassifier(max_depth=i)\n",
    "    dt.fit(X_train_bow,Y_train)\n",
    "    pred = dt.predict(X_test_bow)\n",
    "    loss_array.append(log_loss(Y_test,pred))\n",
    "    print(\"For values of n_estimator : \",i,\" the log loss is : \",log_loss(Y_test,pred))\n",
    "    \n",
    "plt.figure(figsize=(10,8))\n",
    "plt.plot(n,loss_array,color='yellow')\n",
    "plt.title(\"Log loss graph\")\n",
    "plt.xlabel(\"Depth\")\n",
    "plt.ylabel(\"los_loss\")\n",
    "plt.grid()\n",
    "plt.show()\n",
    "\n",
    "best_n = np.argmin(loss_array)\n",
    "dt = DecisionTreeClassifier(max_depth=n[best_n])\n",
    "dt.fit(X_train_bow,Y_train)\n",
    "\n",
    "train_pred = dt.predict(X_train_bow)\n",
    "print(\"For best values of n_estimator : \",n[best_n],\" the train loss is : \",log_loss(Y_train,train_pred))\n",
    "\n",
    "test_pred = dt.predict(X_test_bow)\n",
    "print(\"For best values of n_estmator : \",n[best_n],\" the test loss is : \",log_loss(Y_test,test_pred))\n",
    "\n",
    "print(\"Accuracy : \",accuracy_score(Y_test,test_pred)*100)\n",
    "plot_conf_matrix(Y_test,test_pred)"
   ]
  },
  {
   "cell_type": "code",
   "execution_count": null,
   "metadata": {},
   "outputs": [],
   "source": [
    "n = [10,50,100]\n",
    "loss_array = []\n",
    "\n",
    "for i in n:\n",
    "    dt = DecisionTreeClassifier(max_depth=i)\n",
    "    dt.fit(X_train_tfidf,Y_train)\n",
    "    pred = dt.predict(X_test_tfidf)\n",
    "    loss_array.append(log_loss(Y_test,pred))\n",
    "    print(\"For values of n_estimator : \",i,\" the log loss is : \",log_loss(Y_test,pred))\n",
    "    \n",
    "plt.figure(figsize=(10,8))\n",
    "plt.plot(n,loss_array,color='yellow')\n",
    "plt.title(\"Log loss graph\")\n",
    "plt.xlabel(\"Depth\")\n",
    "plt.ylabel(\"los_loss\")\n",
    "plt.grid()\n",
    "plt.show()\n",
    "\n",
    "best_n = np.argmin(loss_array)\n",
    "dt = DecisionTreeClassifier(max_depth=n[best_n])\n",
    "dt.fit(X_train_tfidf,Y_train)\n",
    "\n",
    "train_pred = dt.predict(X_train_tfidf)\n",
    "print(\"For best values of n_estimator : \",n[best_n],\" the train loss is : \",log_loss(Y_train,train_pred))\n",
    "\n",
    "test_pred = dt.predict(X_test_tfidf)\n",
    "print(\"For best values of n_estmator : \",n[best_n],\" the test loss is : \",log_loss(Y_test,test_pred))\n",
    "\n",
    "print(\"Accuracy : \",accuracy_score(Y_test,test_pred)*100)\n",
    "plot_conf_matrix(Y_test,test_pred)"
   ]
  }
 ],
 "metadata": {
  "kernelspec": {
   "display_name": "Python 3",
   "language": "python",
   "name": "python3"
  },
  "language_info": {
   "codemirror_mode": {
    "name": "ipython",
    "version": 3
   },
   "file_extension": ".py",
   "mimetype": "text/x-python",
   "name": "python",
   "nbconvert_exporter": "python",
   "pygments_lexer": "ipython3",
   "version": "3.8.2"
  }
 },
 "nbformat": 4,
 "nbformat_minor": 4
}
